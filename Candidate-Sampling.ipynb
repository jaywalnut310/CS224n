{
 "cells": [
  {
   "cell_type": "markdown",
   "metadata": {
    "deletable": true,
    "editable": true
   },
   "source": [
    "# Candidate-Sampling with Tensorflow\n",
    "\n",
    "We investigate some candidate sampling methods such as:\n",
    "* noise contrastive estimation\n",
    "* negative sampling\n",
    "* sampled softmax\n",
    "\n",
    "Additionally, we also implement hierarchical-softmax."
   ]
  },
  {
   "cell_type": "markdown",
   "metadata": {
    "deletable": true,
    "editable": true
   },
   "source": [
    "## 1. Classification\n",
    "\n",
    "* minimized VGG model\n",
    "* cifar-100 dataset\n",
    "* output: softmax / sampled softmax / hierarchical softmax\n",
    "\n",
    "To download cifar-100 dataset, use this command:\n",
    "```sh\n",
    "curl -o cifar-100-binary.tar.gz https://www.cs.toronto.edu/~kriz/cifar-100-binary.tar.gz\n",
    "tar -xvf cifar-100-binary.tar.gz\n",
    "```"
   ]
  },
  {
   "cell_type": "markdown",
   "metadata": {
    "deletable": true,
    "editable": true
   },
   "source": [
    "### 1.1. Model"
   ]
  },
  {
   "cell_type": "code",
   "execution_count": null,
   "metadata": {
    "collapsed": true,
    "deletable": true,
    "editable": true
   },
   "outputs": [],
   "source": [
    "import numpy as np\n",
    "import tensorflow as tf\n",
    "\n",
    "from cifar_input import build_input"
   ]
  },
  {
   "cell_type": "code",
   "execution_count": null,
   "metadata": {
    "collapsed": false,
    "deletable": true,
    "editable": true
   },
   "outputs": [],
   "source": [
    "images, labels = build_input('cifar100', './cifar-100-binary/train.bin', 100, 'train')\n",
    "drop_rate = tf.placeholder(tf.bool, ())"
   ]
  },
  {
   "cell_type": "code",
   "execution_count": null,
   "metadata": {
    "collapsed": true,
    "deletable": true,
    "editable": true
   },
   "outputs": [],
   "source": [
    "def simpleCNN(X, rate, reuse=False):\n",
    "    X = tf.layers.conv2d(X, 64, [3, 3], padding='same', activation=tf.nn.relu, name='c11', reuse=reuse)\n",
    "    X = tf.layers.conv2d(X, 64, [3, 3], padding='same', activation=tf.nn.relu, name='c12', reuse=reuse)\n",
    "    X = tf.layers.max_pooling2d(X, [2, 2], [2, 2])\n",
    "    \n",
    "    X = tf.layers.conv2d(X, 128, [3, 3], padding='same', activation=tf.nn.relu, name='c21', reuse=reuse)\n",
    "    X = tf.layers.conv2d(X, 128, [3, 3], padding='same', activation=tf.nn.relu, name='c22', reuse=reuse)\n",
    "    X = tf.layers.max_pooling2d(X, [2, 2], [2, 2])\n",
    "    \n",
    "    X = tf.layers.conv2d(X, 256, [3, 3], padding='same', activation=tf.nn.relu, name='c31', reuse=reuse)\n",
    "    X = tf.layers.conv2d(X, 256, [3, 3], padding='same', activation=tf.nn.relu, name='c32', reuse=reuse)\n",
    "    X = tf.layers.conv2d(X, 256, [3, 3], padding='same', activation=tf.nn.relu, name='c33', reuse=reuse)\n",
    "    X = tf.layers.max_pooling2d(X, [2, 2], [2, 2])\n",
    "    \n",
    "    X = tf.layers.conv2d(X, 512, [3, 3], padding='same', activation=tf.nn.relu, name='c41', reuse=reuse)\n",
    "    X = tf.layers.conv2d(X, 512, [3, 3], padding='same', activation=tf.nn.relu, name='c42', reuse=reuse)\n",
    "    X = tf.layers.conv2d(X, 512, [3, 3], padding='same', activation=tf.nn.relu, name='c43', reuse=reuse)\n",
    "    X = tf.layers.max_pooling2d(X, [2, 2], [2, 2])\n",
    "    \n",
    "    X = tf.contrib.layers.flatten(X)\n",
    "    X = tf.layers.dense(X, 1048, activation=tf.nn.relu, name='d1', reuse=reuse)\n",
    "    X = tf.layers.dropout(X, rate)\n",
    "    X = tf.layers.dense(X, 1048, activation=tf.nn.relu, name='d2', reuse=reuse)\n",
    "    X = tf.layers.dropout(X, rate)\n",
    "    X = tf.layers.dense(X, 100, name='d3', reuse=reuse)\n",
    "    \n",
    "    return X"
   ]
  },
  {
   "cell_type": "code",
   "execution_count": null,
   "metadata": {
    "collapsed": false,
    "deletable": true,
    "editable": true
   },
   "outputs": [],
   "source": [
    "logit = simpleCNN(images, drop_rate)\n",
    "\n",
    "images_tst, labels_tst = build_input('cifar100', './cifar-100-binary/test.bin', 100, 'test')\n",
    "logit_tst = simpleCNN(images_tst, drop_rate, reuse=True)"
   ]
  },
  {
   "cell_type": "markdown",
   "metadata": {
    "deletable": true,
    "editable": true
   },
   "source": [
    "### 1.2. Training Type\n",
    "\n",
    "* softmax\n",
    "* sampled-softmax\n",
    "* hierarchical-softmax"
   ]
  },
  {
   "cell_type": "markdown",
   "metadata": {
    "deletable": true,
    "editable": true
   },
   "source": [
    "#### 1.2.1. Softmax"
   ]
  },
  {
   "cell_type": "code",
   "execution_count": null,
   "metadata": {
    "collapsed": true,
    "deletable": true,
    "editable": true
   },
   "outputs": [],
   "source": [
    "cost = tf.reduce_mean(tf.nn.softmax_cross_entropy_with_logits(logits=logit, labels=labels))"
   ]
  },
  {
   "cell_type": "markdown",
   "metadata": {
    "deletable": true,
    "editable": true
   },
   "source": [
    "#### 1.2.2. Sampled-softmax"
   ]
  },
  {
   "cell_type": "code",
   "execution_count": null,
   "metadata": {
    "collapsed": false,
    "deletable": true,
    "editable": true
   },
   "outputs": [],
   "source": [
    "l_weights = tf.Variable(tf.truncated_normal([100, 1048],\n",
    "                                              stddev=1.0 / np.sqrt(1048)))\n",
    "l_biases = tf.Variable(tf.zeros([100]))\n",
    "\n",
    "\n",
    "# loss automatically draws a new sample of the negative labels each\n",
    "# time we evaluate the loss.\n",
    "num_true = 1\n",
    "num_sampled = 30\n",
    "num_classes = 100\n",
    "\n",
    "sampled_values = tf.nn.uniform_candidate_sampler(\n",
    "          true_classes=tf.reshape(tf.arg_max(labels, 1), [-1,1]),\n",
    "          num_true=num_true,\n",
    "          num_sampled=num_sampled,\n",
    "          unique=True,\n",
    "          range_max=num_classes)\n",
    "\n",
    "cost = tf.reduce_mean(\n",
    "  tf.nn.sampled_softmax_loss(weights=l_weights,\n",
    "                 biases=l_biases,\n",
    "                 labels=tf.reshape(tf.arg_max(labels, 1), [-1,1]),\n",
    "                 inputs=logit.graph.get_operation_by_name('dropout_2/Identity').outputs[0],\n",
    "                 num_sampled=num_sampled,\n",
    "                 num_classes=num_classes,\n",
    "                 sampled_values=sampled_values))\n",
    "                 \n",
    "logit = tf.matmul(logit.graph.get_operation_by_name('dropout_2/Identity').outputs[0], tf.transpose(l_weights)) + l_biases\n",
    "logit_tst = tf.matmul(logit_tst.graph.get_operation_by_name('dropout_4/Identity').outputs[0], tf.transpose(l_weights)) + l_biases"
   ]
  },
  {
   "cell_type": "markdown",
   "metadata": {
    "deletable": true,
    "editable": true
   },
   "source": [
    "#### 1.2.3. Hierarchical-softmax\n",
    "\n",
    "For convinience, we use two-layer hierarchical-softmax.\n",
    "\n",
    "Actually, two-layer approach is best for CIFAR-100, because all training/test labels are uniformly distributed.\n",
    "\n",
    "---\n",
    "**Note**\n",
    "\n",
    "* This Hierarchical-Softmax is not memory-efficient nor gpu-friendly.\n",
    "* That is the reason why tensorflow-version hierarchical-softmax is not implemented publicly."
   ]
  },
  {
   "cell_type": "code",
   "execution_count": null,
   "metadata": {
    "collapsed": false,
    "deletable": true,
    "editable": true
   },
   "outputs": [],
   "source": [
    "ids = tf.arg_max(labels, 1)\n",
    "ids_1st = tf.cast(ids // 10, tf.int32)\n",
    "ids_2nd = tf.cast(ids % 10, tf.int32)"
   ]
  },
  {
   "cell_type": "code",
   "execution_count": null,
   "metadata": {
    "collapsed": true,
    "deletable": true,
    "editable": true
   },
   "outputs": [],
   "source": [
    "inputs = logit.graph.get_operation_by_name('dropout_2/Identity').outputs[0]\n",
    "hs_1st = tf.nn.softmax(tf.layers.dense(inputs, 10, name='hs_1st'))"
   ]
  },
  {
   "cell_type": "code",
   "execution_count": null,
   "metadata": {
    "collapsed": false,
    "deletable": true,
    "editable": true
   },
   "outputs": [],
   "source": [
    "p1 = tf.gather(tf.reshape(hs_1st, [-1,1]), ids_1st + tf.range(0, 1000, 10))\n",
    "\n",
    "p2 = []\n",
    "for i in range(10):\n",
    "    matched_nums = tf.reshape(tf.where(tf.equal(ids_1st, i)), [-1])\n",
    "    matched_ids_2nd = tf.gather(ids_2nd, matched_nums)\n",
    "    matched_inputs = tf.gather(inputs, matched_nums)\n",
    "    \n",
    "    matched_outputs = tf.nn.softmax(tf.layers.dense(matched_inputs, 10, name='hs_2nd_%i' % i))\n",
    "    matched_ps = tf.gather(tf.reshape(matched_outputs, [-1,1]), matched_ids_2nd + tf.range(0, tf.reduce_prod(tf.shape(matched_outputs)), 10))\n",
    "    p2.append(matched_ps)\n",
    "    \n",
    "p2 = tf.concat(p2, 0)"
   ]
  },
  {
   "cell_type": "code",
   "execution_count": null,
   "metadata": {
    "collapsed": true,
    "deletable": true,
    "editable": true
   },
   "outputs": [],
   "source": [
    "p_t = p1 * p2\n",
    "cost = -tf.reduce_mean(tf.log(p_t))"
   ]
  },
  {
   "cell_type": "code",
   "execution_count": null,
   "metadata": {
    "collapsed": false,
    "deletable": true,
    "editable": true
   },
   "outputs": [],
   "source": [
    "logit_1 = tf.nn.softmax(tf.layers.dense(inputs, 10, name='hs_1st', reuse=True))\n",
    "logit_2 = [tf.nn.softmax(tf.layers.dense(inputs, 10, name='hs_2nd_%i' % i, reuse=True)) for i in range(10)]\n",
    "logit_2_concat = tf.concat(logit_2, 1)\n",
    "\n",
    "logit_mul_shape = tf.concat([tf.shape(logit_1), [tf.shape(logit_2)[-1]]], 0)\n",
    "\n",
    "logit = tf.reshape(tf.expand_dims(logit_1, 2) * \n",
    "                   tf.reshape(logit_2_concat, logit_mul_shape), \n",
    "                   tf.shape(logit_2_concat))"
   ]
  },
  {
   "cell_type": "code",
   "execution_count": null,
   "metadata": {
    "collapsed": true,
    "deletable": true,
    "editable": true
   },
   "outputs": [],
   "source": [
    "inputs_tst = logit.graph.get_operation_by_name('dropout_4/Identity').outputs[0]\n",
    "logit_tst_1 = tf.nn.softmax(tf.layers.dense(inputs_tst, 10, name='hs_1st', reuse=True))\n",
    "logit_tst_2 = [tf.nn.softmax(tf.layers.dense(inputs_tst, 10, name='hs_2nd_%i' % i, reuse=True)) for i in range(10)]\n",
    "logit_tst_2_concat = tf.concat(logit_tst_2, 1)\n",
    "\n",
    "logit_tst_mul_shape = tf.concat([tf.shape(logit_tst_1), [tf.shape(logit_tst_2)[-1]]], 0)\n",
    "\n",
    "logit_tst = tf.reshape(tf.expand_dims(logit_tst_1, 2) * \n",
    "                   tf.reshape(logit_tst_2_concat, logit_tst_mul_shape), \n",
    "                   tf.shape(logit_tst_2_concat))"
   ]
  },
  {
   "cell_type": "markdown",
   "metadata": {
    "deletable": true,
    "editable": true
   },
   "source": [
    "### 1.3. Training & Test & Logging"
   ]
  },
  {
   "cell_type": "code",
   "execution_count": null,
   "metadata": {
    "collapsed": false,
    "deletable": true,
    "editable": true
   },
   "outputs": [],
   "source": [
    "a = tf.placeholder(tf.float32, ())\n",
    "optimizer = tf.train.GradientDescentOptimizer(a)\n",
    "train = optimizer.minimize(cost)\n",
    "\n",
    "init = tf.global_variables_initializer()\n",
    "\n",
    "sess = tf.Session()\n",
    "tf.train.start_queue_runners(sess)\n",
    "sess.run(init)\n",
    "\n",
    "# logging\n",
    "tf.summary.scalar('learning_rate', a)\n",
    "tf.summary.scalar('cost', cost)\n",
    "summaries = tf.summary.merge_all()\n",
    "\n",
    "summary_writer = tf.summary.FileWriter('./')"
   ]
  },
  {
   "cell_type": "code",
   "execution_count": null,
   "metadata": {
    "collapsed": false,
    "deletable": true,
    "editable": true
   },
   "outputs": [],
   "source": [
    "training_epochs = 50000\n",
    "display_step = 500\n",
    "\n",
    "for epoch in range(training_epochs+1):\n",
    "    if epoch < 20000:\n",
    "        lrn_rate = 0.1\n",
    "    elif epoch < 30000:\n",
    "        lrn_rate = 0.01\n",
    "    elif epoch < 40000:\n",
    "        lrn_rate = 0.001\n",
    "    else:\n",
    "        lrn_rate = 0.0001\n",
    "        \n",
    "    _, s, c = sess.run([train, summaries, cost], feed_dict={a: lrn_rate, drop_rate: 0.1})\n",
    "    summary_writer.add_summary(s, epoch)\n",
    "    \n",
    "    print (\"Epoch:\", '%04d' %(epoch), \"cost:\", \"{:0.9f}\".format(c), end='\\r')\n",
    "\n",
    "    if epoch % display_step == 0:\n",
    "        print()\n",
    "        rets, anss = [], []\n",
    "        for i in range(100):\n",
    "            ret, ans = sess.run([logit_tst, labels_tst], feed_dict={drop_rate: 0.0})\n",
    "            rets.extend(ret)\n",
    "            anss.extend(ans)\n",
    "        precision = np.mean(np.argmax(rets, 1) == np.argmax(anss, 1)) \n",
    "        print(precision)\n",
    "        \n",
    "        precision_summ = tf.Summary()\n",
    "        precision_summ.value.add(tag='precision', simple_value=precision)\n",
    "        summary_writer.add_summary(precision_summ, epoch)"
   ]
  },
  {
   "cell_type": "markdown",
   "metadata": {
    "deletable": true,
    "editable": true
   },
   "source": [
    "### 1.4. Results"
   ]
  },
  {
   "cell_type": "markdown",
   "metadata": {
    "deletable": true,
    "editable": true
   },
   "source": [
    "![title](logs/candidate-sampling/precision.png)"
   ]
  },
  {
   "cell_type": "markdown",
   "metadata": {
    "deletable": true,
    "editable": true
   },
   "source": [
    "## 2. Word2Vec\n",
    "\n",
    "* codes from https://www.tensorflow.org/tutorials/word2vec\n",
    "* cost: nce (noise contrastive estimation) / negative sampling"
   ]
  },
  {
   "cell_type": "markdown",
   "metadata": {},
   "source": [
    "### 2.1. Model"
   ]
  },
  {
   "cell_type": "code",
   "execution_count": null,
   "metadata": {
    "collapsed": true
   },
   "outputs": [],
   "source": [
    "# Copyright 2015 The TensorFlow Authors. All Rights Reserved.\n",
    "#\n",
    "# Licensed under the Apache License, Version 2.0 (the \"License\");\n",
    "# you may not use this file except in compliance with the License.\n",
    "# You may obtain a copy of the License at\n",
    "#\n",
    "#     http://www.apache.org/licenses/LICENSE-2.0\n",
    "#\n",
    "# Unless required by applicable law or agreed to in writing, software\n",
    "# distributed under the License is distributed on an \"AS IS\" BASIS,\n",
    "# WITHOUT WARRANTIES OR CONDITIONS OF ANY KIND, either express or implied.\n",
    "# See the License for the specific language governing permissions and\n",
    "# limitations under the License.\n",
    "# ==============================================================================\n",
    "\"\"\"Basic word2vec example.\"\"\"\n",
    "\n",
    "from __future__ import absolute_import\n",
    "from __future__ import division\n",
    "from __future__ import print_function\n",
    "\n",
    "import collections\n",
    "import math\n",
    "import os\n",
    "import random\n",
    "import zipfile\n",
    "\n",
    "import numpy as np\n",
    "from six.moves import urllib\n",
    "from six.moves import xrange  # pylint: disable=redefined-builtin\n",
    "import tensorflow as tf"
   ]
  },
  {
   "cell_type": "markdown",
   "metadata": {
    "deletable": true,
    "editable": true
   },
   "source": [
    "#### 2.1. Dataset"
   ]
  },
  {
   "cell_type": "code",
   "execution_count": null,
   "metadata": {
    "collapsed": false
   },
   "outputs": [],
   "source": [
    "# Step 1: Download the data.\n",
    "url = 'http://mattmahoney.net/dc/'\n",
    "\n",
    "\n",
    "def maybe_download(filename, expected_bytes):\n",
    "    \"\"\"Download a file if not present, and make sure it's the right size.\"\"\"\n",
    "    if not os.path.exists(filename):\n",
    "        filename, _ = urllib.request.urlretrieve(url + filename, filename)\n",
    "    statinfo = os.stat(filename)\n",
    "    if statinfo.st_size == expected_bytes:\n",
    "        print('Found and verified', filename)\n",
    "    else:\n",
    "        print(statinfo.st_size)\n",
    "        raise Exception(\n",
    "            'Failed to verify ' + filename + '. Can you get to it with a browser?')\n",
    "    return filename\n",
    "\n",
    "filename = maybe_download('text8.zip', 31344016)\n",
    "\n",
    "# Read the data into a list of strings.\n",
    "def read_data(filename):\n",
    "    \"\"\"Extract the first file enclosed in a zip file as a list of words.\"\"\"\n",
    "    with zipfile.ZipFile(filename) as f:\n",
    "        data = tf.compat.as_str(f.read(f.namelist()[0])).split()\n",
    "    return data\n",
    "\n",
    "vocabulary = read_data(filename)\n",
    "print('Data size', len(vocabulary))"
   ]
  },
  {
   "cell_type": "code",
   "execution_count": null,
   "metadata": {
    "collapsed": false
   },
   "outputs": [],
   "source": [
    "# Step 2: Build the dictionary and replace rare words with UNK token.\n",
    "vocabulary_size = 50000\n",
    "\n",
    "def build_dataset(words, n_words):\n",
    "    \"\"\"Process raw inputs into a dataset.\"\"\"\n",
    "    count = [['UNK', -1]]\n",
    "    count.extend(collections.Counter(words).most_common(n_words - 1))\n",
    "    dictionary = dict()\n",
    "    for word, _ in count:\n",
    "        dictionary[word] = len(dictionary)\n",
    "    data = list()\n",
    "    unk_count = 0\n",
    "    for word in words:\n",
    "        if word in dictionary:\n",
    "            index = dictionary[word]\n",
    "        else:\n",
    "            index = 0  # dictionary['UNK']\n",
    "            unk_count += 1\n",
    "        data.append(index)\n",
    "    count[0][1] = unk_count\n",
    "    reversed_dictionary = dict(zip(dictionary.values(), dictionary.keys()))\n",
    "    return data, count, dictionary, reversed_dictionary\n",
    "\n",
    "data, count, dictionary, reverse_dictionary = build_dataset(vocabulary,\n",
    "                                                            vocabulary_size)\n",
    "del vocabulary  # Hint to reduce memory.\n",
    "print('Most common words (+UNK)', count[:5])\n",
    "print('Sample data', data[:10], [reverse_dictionary[i] for i in data[:10]])"
   ]
  },
  {
   "cell_type": "code",
   "execution_count": null,
   "metadata": {
    "collapsed": false
   },
   "outputs": [],
   "source": [
    "# Step 3: Function to generate a training batch for the skip-gram model.\n",
    "def generate_batch(batch_size, num_skips, skip_window):\n",
    "    data_index = 0\n",
    "    while True:\n",
    "        assert batch_size % num_skips == 0\n",
    "        assert num_skips <= 2 * skip_window\n",
    "        batch = np.ndarray(shape=(batch_size), dtype=np.int32)\n",
    "        labels = np.ndarray(shape=(batch_size, 1), dtype=np.int32)\n",
    "        span = 2 * skip_window + 1  # [ skip_window target skip_window ]\n",
    "        buffer = collections.deque(maxlen=span)\n",
    "        for _ in range(span):\n",
    "            buffer.append(data[data_index])\n",
    "            data_index = (data_index + 1) % len(data)\n",
    "        for i in range(batch_size // num_skips):\n",
    "            target = skip_window  # target label at the center of the buffer\n",
    "            targets_to_avoid = [skip_window]\n",
    "            for j in range(num_skips):\n",
    "                while target in targets_to_avoid:\n",
    "                    target = random.randint(0, span - 1)\n",
    "                targets_to_avoid.append(target)\n",
    "                batch[i * num_skips + j] = buffer[skip_window]\n",
    "                labels[i * num_skips + j, 0] = buffer[target]\n",
    "            buffer.append(data[data_index])\n",
    "            data_index = (data_index + 1) % len(data)\n",
    "        # Backtrack a little bit to avoid skipping words in the end of a batch\n",
    "        yield batch, labels\n",
    "        data_index = (data_index + len(data) - span) % len(data)\n",
    "    \n",
    "batches = generate_batch(batch_size=8, num_skips=2, skip_window=1)\n",
    "batch, labels = next(batches)\n",
    "for i in range(8):\n",
    "    print(batch[i], reverse_dictionary[batch[i]],\n",
    "          '->', labels[i, 0], reverse_dictionary[labels[i, 0]])"
   ]
  },
  {
   "cell_type": "code",
   "execution_count": null,
   "metadata": {
    "collapsed": true
   },
   "outputs": [],
   "source": [
    "# Step 4: Build and train a skip-gram model.\n",
    "batch_size = 128\n",
    "embedding_size = 128  # Dimension of the embedding vector.\n",
    "skip_window = 1       # How many words to consider left and right.\n",
    "num_skips = 2         # How many times to reuse an input to generate a label.\n",
    "\n",
    "# We pick a random validation set to sample nearest neighbors. Here we limit the\n",
    "# validation samples to the words that have a low numeric ID, which by\n",
    "# construction are also the most frequent.\n",
    "valid_size = 16     # Random set of words to evaluate similarity on.\n",
    "valid_window = 100  # Only pick dev samples in the head of the distribution.\n",
    "valid_examples = np.random.choice(valid_window, valid_size, replace=False)\n",
    "num_sampled = 64    # Number of negative examples to sample.\n",
    "\n",
    "# Input data.\n",
    "train_inputs = tf.placeholder(tf.int32, shape=[batch_size])\n",
    "train_labels = tf.placeholder(tf.int32, shape=[batch_size, 1])\n",
    "valid_dataset = tf.constant(valid_examples, dtype=tf.int32)\n",
    "\n",
    "# Look up embeddings for inputs.\n",
    "embeddings = tf.Variable(\n",
    "    tf.random_uniform([vocabulary_size, embedding_size], -1.0, 1.0))\n",
    "embed = tf.nn.embedding_lookup(embeddings, train_inputs)"
   ]
  },
  {
   "cell_type": "markdown",
   "metadata": {},
   "source": [
    "### 2.2. Training Type\n",
    "* nce\n",
    "* negative sampling"
   ]
  },
  {
   "cell_type": "code",
   "execution_count": null,
   "metadata": {
    "collapsed": true
   },
   "outputs": [],
   "source": [
    "# Uniformly distributed samples\n",
    "num_true = 1\n",
    "sampled_values = tf.nn.uniform_candidate_sampler(\n",
    "          true_classes=tf.cast(train_labels, tf.int64),\n",
    "          num_true=num_true,\n",
    "          num_sampled=num_sampled,\n",
    "          unique=True,\n",
    "          range_max=vocabulary_size)"
   ]
  },
  {
   "cell_type": "markdown",
   "metadata": {},
   "source": [
    "#### 2.2.1. NCE"
   ]
  },
  {
   "cell_type": "code",
   "execution_count": null,
   "metadata": {
    "collapsed": false
   },
   "outputs": [],
   "source": [
    "# Construct the variables for the NCE loss\n",
    "nce_weights = tf.Variable(\n",
    "    tf.truncated_normal([vocabulary_size, embedding_size],\n",
    "                        stddev=1.0 / math.sqrt(embedding_size)))\n",
    "nce_biases = tf.Variable(tf.zeros([vocabulary_size]))\n",
    "\n",
    "# Compute the average NCE loss for the batch.\n",
    "# tf.nce_loss automatically draws a new sample of the negative labels each\n",
    "# time we evaluate the loss.\n",
    "loss = tf.reduce_mean(\n",
    "    tf.nn.nce_loss(weights=nce_weights,\n",
    "                   biases=nce_biases,\n",
    "                   labels=train_labels,\n",
    "                   inputs=embed,\n",
    "                   num_sampled=num_sampled,\n",
    "                   num_classes=vocabulary_size,\n",
    "                   sampled_values=sampled_values))"
   ]
  },
  {
   "cell_type": "markdown",
   "metadata": {},
   "source": [
    "#### 2.2.2. Negative Sampling"
   ]
  },
  {
   "cell_type": "code",
   "execution_count": null,
   "metadata": {
    "collapsed": true
   },
   "outputs": [],
   "source": [
    "from tensorflow.python.ops.nn_impl import _compute_sampled_logits, _sum_rows\n",
    "\n",
    "def neg_loss(weights,\n",
    "             biases,\n",
    "             labels,\n",
    "             inputs,\n",
    "             num_sampled,\n",
    "             num_classes,\n",
    "             num_true=1,\n",
    "             sampled_values=None,\n",
    "             remove_accidental_hits=False,\n",
    "             partition_strategy=\"mod\",\n",
    "             name=\"neg_loss\"):\n",
    "\n",
    "    logits, labels = _compute_sampled_logits(\n",
    "        weights=weights,\n",
    "        biases=biases,\n",
    "        labels=labels,\n",
    "        inputs=inputs,\n",
    "        num_sampled=num_sampled,\n",
    "        num_classes=num_classes,\n",
    "        num_true=num_true,\n",
    "        sampled_values=sampled_values,\n",
    "        subtract_log_q=False,\n",
    "        remove_accidental_hits=remove_accidental_hits,\n",
    "        partition_strategy=partition_strategy,\n",
    "        name=name)\n",
    "    sampled_losses = tf.nn.sigmoid_cross_entropy_with_logits(\n",
    "        labels=labels, logits=logits, name=\"sampled_losses\")\n",
    "    # sampled_losses is batch_size x {true_loss, sampled_losses...}\n",
    "    # We sum out true and sampled losses.\n",
    "    return _sum_rows(sampled_losses)"
   ]
  },
  {
   "cell_type": "code",
   "execution_count": null,
   "metadata": {
    "collapsed": false
   },
   "outputs": [],
   "source": [
    "# Construct the variables for the NCE loss\n",
    "neg_weights = tf.Variable(\n",
    "    tf.truncated_normal([vocabulary_size, embedding_size],\n",
    "                        stddev=1.0 / math.sqrt(embedding_size)))\n",
    "neg_biases = tf.Variable(tf.zeros([vocabulary_size]))\n",
    "\n",
    "# Compute the average NCE loss for the batch.\n",
    "# tf.nce_loss automatically draws a new sample of the negative labels each\n",
    "# time we evaluate the loss.\n",
    "loss = tf.reduce_mean(\n",
    "    neg_loss(weights=neg_weights,\n",
    "                   biases=neg_biases,\n",
    "                   labels=train_labels,\n",
    "                   inputs=embed,\n",
    "                   num_sampled=num_sampled,\n",
    "                   num_classes=vocabulary_size,\n",
    "                   sampled_values=sampled_values))"
   ]
  },
  {
   "cell_type": "markdown",
   "metadata": {},
   "source": [
    "### 2.3. Training"
   ]
  },
  {
   "cell_type": "code",
   "execution_count": null,
   "metadata": {
    "collapsed": true
   },
   "outputs": [],
   "source": [
    "# Construct the SGD optimizer using a learning rate of 1.0.\n",
    "optimizer = tf.train.GradientDescentOptimizer(1.0).minimize(loss)\n",
    "\n",
    "# Compute the cosine similarity between minibatch examples and all embeddings.\n",
    "norm = tf.sqrt(tf.reduce_sum(tf.square(embeddings), 1, keep_dims=True))\n",
    "normalized_embeddings = embeddings / norm\n",
    "valid_embeddings = tf.nn.embedding_lookup(\n",
    "    normalized_embeddings, valid_dataset)\n",
    "similarity = tf.matmul(\n",
    "    valid_embeddings, normalized_embeddings, transpose_b=True)\n",
    "\n",
    "# Add variable initializer.\n",
    "init = tf.global_variables_initializer()"
   ]
  },
  {
   "cell_type": "code",
   "execution_count": null,
   "metadata": {
    "collapsed": false
   },
   "outputs": [],
   "source": [
    "# Step 5: Begin training.\n",
    "num_steps = 100001\n",
    "batches = generate_batch(batch_size, num_skips, skip_window)\n",
    "\n",
    "with tf.Session() as sess:\n",
    "  # We must initialize all variables before we use them.\n",
    "    init.run()\n",
    "    print('Initialized')\n",
    "\n",
    "    average_loss = 0\n",
    "    for step in xrange(num_steps):\n",
    "        batch_inputs, batch_labels = next(batches)\n",
    "        feed_dict = {train_inputs: batch_inputs, train_labels: batch_labels}\n",
    "\n",
    "        # We perform one update step by evaluating the optimizer op (including it\n",
    "        # in the list of returned values for session.run()\n",
    "        _, loss_val = sess.run([optimizer, loss], feed_dict=feed_dict)\n",
    "        average_loss += loss_val\n",
    "\n",
    "        if step % 2000 == 0:\n",
    "            if step > 0:\n",
    "                average_loss /= 2000\n",
    "            # The average loss is an estimate of the loss over the last 2000 batches.\n",
    "            print('Average loss at step ', step, ': ', average_loss)\n",
    "            average_loss = 0\n",
    "\n",
    "        # Note that this is expensive (~20% slowdown if computed every 500 steps)\n",
    "        if step % 10000 == 0:\n",
    "            sim = similarity.eval()\n",
    "            for i in xrange(valid_size):\n",
    "                valid_word = reverse_dictionary[valid_examples[i]]\n",
    "                top_k = 8  # number of nearest neighbors\n",
    "                nearest = (-sim[i, :]).argsort()[1:top_k + 1]\n",
    "                log_str = 'Nearest to %s:' % valid_word\n",
    "                for k in xrange(top_k):\n",
    "                    close_word = reverse_dictionary[nearest[k]]\n",
    "                    log_str = '%s %s,' % (log_str, close_word)\n",
    "                print(log_str)\n",
    "    final_embeddings = normalized_embeddings.eval()"
   ]
  },
  {
   "cell_type": "markdown",
   "metadata": {},
   "source": [
    "### 2.4. Results"
   ]
  },
  {
   "cell_type": "code",
   "execution_count": null,
   "metadata": {
    "collapsed": false,
    "deletable": true,
    "editable": true
   },
   "outputs": [],
   "source": [
    "# Step 6: Visualize the embeddings.\n",
    "def plot_with_labels(low_dim_embs, labels, filename='tsne.png'):\n",
    "    assert low_dim_embs.shape[0] >= len(labels), 'More labels than embeddings'\n",
    "    plt.figure(figsize=(18, 18))  # in inches\n",
    "    for i, label in enumerate(labels):\n",
    "        x, y = low_dim_embs[i, :]\n",
    "        plt.scatter(x, y)\n",
    "        plt.annotate(label,\n",
    "                     xy=(x, y),\n",
    "                     xytext=(5, 2),\n",
    "                     textcoords='offset points',\n",
    "                     ha='right',\n",
    "                     va='bottom')\n",
    "\n",
    "    plt.savefig(filename)\n",
    "\n",
    "try:\n",
    "    # pylint: disable=g-import-not-at-top\n",
    "    from sklearn.manifold import TSNE\n",
    "    %matplotlib inline\n",
    "    import matplotlib.pyplot as plt\n",
    "\n",
    "    tsne = TSNE(perplexity=30, n_components=2, init='pca', n_iter=5000)\n",
    "    plot_only = 500\n",
    "    low_dim_embs = tsne.fit_transform(final_embeddings[:plot_only, :])\n",
    "    labels = [reverse_dictionary[i] for i in xrange(plot_only)]\n",
    "    plot_with_labels(low_dim_embs, labels)\n",
    "\n",
    "except ImportError:\n",
    "    print('Please install sklearn, matplotlib, and scipy to show embeddings.')"
   ]
  },
  {
   "cell_type": "markdown",
   "metadata": {},
   "source": [
    "#### 2.4.1. NCE\n",
    "![title](logs/candidate-sampling/tsne_nce.png)"
   ]
  },
  {
   "cell_type": "markdown",
   "metadata": {},
   "source": [
    "#### 2.4.2, Negative Sampling\n",
    "![title](logs/candidate-sampling/tsne_neg.png)"
   ]
  }
 ],
 "metadata": {
  "anaconda-cloud": {},
  "kernelspec": {
   "display_name": "Python [conda env:tf_r1.0_3.5]",
   "language": "python",
   "name": "conda-env-tf_r1.0_3.5-py"
  },
  "language_info": {
   "codemirror_mode": {
    "name": "ipython",
    "version": 3
   },
   "file_extension": ".py",
   "mimetype": "text/x-python",
   "name": "python",
   "nbconvert_exporter": "python",
   "pygments_lexer": "ipython3",
   "version": "3.5.2"
  }
 },
 "nbformat": 4,
 "nbformat_minor": 2
}
